{
  "nbformat": 4,
  "nbformat_minor": 0,
  "metadata": {
    "colab": {
      "provenance": []
    },
    "kernelspec": {
      "name": "python3",
      "display_name": "Python 3"
    },
    "language_info": {
      "name": "python"
    }
  },
  "cells": [
    {
      "cell_type": "markdown",
      "source": [
        "##Classification Task"
      ],
      "metadata": {
        "id": "7M2alMvvRF_E"
      }
    },
    {
      "cell_type": "markdown",
      "source": [
        "###Import Libraries"
      ],
      "metadata": {
        "id": "aLCZm3lGUZPw"
      }
    },
    {
      "cell_type": "code",
      "source": [
        "import pandas as pd\n",
        "from sklearn.linear_model import LogisticRegression\n",
        "from sklearn.ensemble import GradientBoostingClassifier\n",
        "from sklearn.neural_network import MLPClassifier\n",
        "from sklearn.metrics import log_loss, accuracy_score, average_precision_score, f1_score, precision_score, recall_score\n",
        "from sklearn.preprocessing import StandardScaler, OneHotEncoder\n",
        "from sklearn.model_selection import cross_val_score, StratifiedKFold\n",
        "from imblearn.over_sampling import SMOTE\n",
        "import numpy as np\n",
        "import matplotlib.pyplot as plt\n"
      ],
      "metadata": {
        "id": "HzXAdeHVUebA"
      },
      "execution_count": null,
      "outputs": []
    },
    {
      "cell_type": "markdown",
      "source": [
        "###Load and Preprocess Datasets and Feature Mapping"
      ],
      "metadata": {
        "id": "GUm66VuZUZHG"
      }
    },
    {
      "cell_type": "code",
      "source": [
        "# Load the PROMOPROMS dataset\n",
        "data_promoproms = pd.read_csv('/content/drive/MyDrive/datasets/PROMOPROMS_FINAL.csv')\n",
        "data_promoproms['Date'] = pd.to_datetime(data_promoproms['Date'])\n",
        "\n",
        "# Impute missing values in PROMOPROMS\n",
        "missing_columns = data_promoproms.columns[data_promoproms.isnull().any()]\n",
        "for column in missing_columns:\n",
        "    if data_promoproms[column].dtype == 'object':\n",
        "        data_promoproms[column].fillna(data_promoproms[column].mode()[0], inplace=True)\n",
        "    else:\n",
        "        data_promoproms[column].fillna(data_promoproms[column].mean(), inplace=True)\n",
        "\n",
        "# Sort data by patient ID and date\n",
        "data_promoproms = data_promoproms.sort_values(by=['ID', 'Date'])\n",
        "\n",
        "# Calculate EDSS change over a 1-year period with 4-month intervals\n",
        "data_promoproms['EDSS_change'] = data_promoproms.groupby('ID')['EDSS TOT 2'].diff(periods=3).fillna(0)\n",
        "\n",
        "# Create a binary target variable: same (0) or worse (1)\n",
        "data_promoproms['EDSS_status'] = (data_promoproms['EDSS_change'] > 0).astype(int)\n",
        "\n",
        "# Rename PROMOPROMS features according to the mapping\n",
        "feature_mapping = {\n",
        "    'AGE_sess': 'Age',\n",
        "    'EDSS 000': 'EDSS_Visual',\n",
        "    'EDSS 001': 'EDSS_Brainstem',\n",
        "    'EDSS 002': 'EDSS_Pyramidal',\n",
        "    'EDSS 003': 'EDSS_Cerebellar',\n",
        "    'EDSS 004': 'EDSS_Sensory',\n",
        "    'EDSS 005': 'EDSS_Bowel',\n",
        "    'EDSS 006': 'EDSS_Mental',\n",
        "    'EDSS 007': 'EDSS_Walking',\n",
        "    'EDSS TOT 2': 'EDSS_TOT',\n",
        "    'MOCA TOT': 'MoCa',\n",
        "    'SDMT TOT': 'SDMT',\n",
        "    'MFIS 001': 'MFIS_1',\n",
        "    'MFIS 002': 'MFIS_2',\n",
        "    'MFIS 003': 'MFIS_3',\n",
        "    'MFIS 004': 'MFIS_4',\n",
        "    'MFIS 005': 'MFIS_5',\n",
        "    'MFIS 006': 'MFIS_6',\n",
        "    'MFIS 007': 'MFIS_7',\n",
        "    'MFIS 008': 'MFIS_8',\n",
        "    'MFIS 009': 'MFIS_9',\n",
        "    'MFIS 010': 'MFIS_10',\n",
        "    'MFIS 011': 'MFIS_11',\n",
        "    'MFIS 012': 'MFIS_12',\n",
        "    'MFIS 013': 'MFIS_13',\n",
        "    'MFIS 014': 'MFIS_14',\n",
        "    'MFIS 015': 'MFIS_15',\n",
        "    'MFIS 016': 'MFIS_16',\n",
        "    'MFIS 017': 'MFIS_17',\n",
        "    'MFIS 018': 'MFIS_18',\n",
        "    'MFIS 019': 'MFIS_19',\n",
        "    'MFIS 020': 'MFIS_20',\n",
        "    'MFIS 021': 'MFIS_21',\n",
        "    'MFIS TOT': 'MFIS TOT',\n",
        "    'OAB-Q001': 'OAB-Q_1',\n",
        "    'OAB-Q002': 'OAB-Q_2',\n",
        "    'OAB-Q003': 'OAB-Q_3',\n",
        "    'OAB-Q004': 'OAB-Q_4',\n",
        "    'OAB-Q005': 'OAB-Q_5',\n",
        "    'OAB-Q006': 'OAB-Q_6',\n",
        "    'OAB-Q007': 'OAB-Q_7',\n",
        "    'OAB-Q008': 'OAB-Q_8',\n",
        "    'OAB-QTOT': 'OAB-Q TOT',\n",
        "    'RELAPS': 'Last relapse',\n",
        "    'GEND_F': 'Gender_F',\n",
        "    'GEND_M': 'Gender_M'\n",
        "}\n",
        "data_promoproms.rename(columns=feature_mapping, inplace=True)\n",
        "\n",
        "# Select only the mapped features\n",
        "selected_features_promoproms = list(feature_mapping.values())\n",
        "X_promoproms = data_promoproms[selected_features_promoproms]\n",
        "y_promoproms = data_promoproms['EDSS_status']\n",
        "\n",
        "# Standardize PROMOPROMS features\n",
        "scaler = StandardScaler()\n",
        "X_promoproms_scaled = scaler.fit_transform(X_promoproms)\n",
        "\n",
        "# Load the ALAMEDA dataset\n",
        "data_alameda = pd.read_csv('/content/drive/MyDrive/datasets/Updated_ALAMEDA_FISM_final_with_numerical_IDs.csv')\n",
        "data_alameda['Timepoint'] = pd.to_datetime(data_alameda['Timepoint'])\n",
        "\n",
        "# Apply one-hot encoding to the 'Gender' column with explicit naming\n",
        "encoder = OneHotEncoder(sparse_output=False)\n",
        "gender_encoded = encoder.fit_transform(data_alameda[['Gender']])\n",
        "gender_encoded_df = pd.DataFrame(gender_encoded, columns=['Gender_F', 'Gender_M'])\n",
        "\n",
        "# Drop the original 'Gender' column and concatenate the encoded dataframe\n",
        "data_alameda = pd.concat([data_alameda.drop(columns=['Gender']), gender_encoded_df], axis=1)\n",
        "\n",
        "# Impute missing values if any\n",
        "missing_columns_alameda = data_alameda.columns[data_alameda.isnull().any()]\n",
        "for column in missing_columns_alameda:\n",
        "    if data_alameda[column].dtype == 'object':\n",
        "        data_alameda[column].fillna(data_alameda[column].mode()[0], inplace=True)\n",
        "    else:\n",
        "        data_alameda[column].fillna(data_alameda[column].mean(), inplace=True)\n",
        "# Ensure both datasets have the same features\n",
        "selected_features_alameda = [feature for feature in selected_features_promoproms if feature in data_alameda.columns]\n",
        "\n",
        "# Inform if any columns from PROMOPROMS are missing in ALAMEDA\n",
        "missing_features = list(set(selected_features_promoproms) - set(selected_features_alameda))\n",
        "if missing_features:\n",
        "    print(f\"Warning: The following features are missing in the ALAMEDA dataset and will be ignored: {missing_features}\")\n",
        "\n",
        "# Select the available features for ALAMEDA\n",
        "X_alameda = data_alameda[selected_features_alameda]\n",
        "\n",
        "# Define the target variable for ALAMEDA as a binary variable based on the median of EDSS_TOT\n",
        "y_alameda = (data_alameda['EDSS_TOT'] > data_alameda['EDSS_TOT'].median()).astype(int)\n",
        "\n",
        "# Standardize the ALAMEDA features using the same scaler fitted on PROMOPROMS data\n",
        "X_alameda_scaled = scaler.transform(X_alameda)\n"
      ],
      "metadata": {
        "id": "2NxjOKDAVbG5"
      },
      "execution_count": null,
      "outputs": []
    },
    {
      "cell_type": "markdown",
      "source": [
        "###Combine the Datasets and Address Class Imbalance"
      ],
      "metadata": {
        "id": "djNc514lUZAQ"
      }
    },
    {
      "cell_type": "code",
      "source": [
        "# Combine the datasets\n",
        "X_combined = np.vstack([X_promoproms_scaled, X_alameda_scaled])\n",
        "y_combined = np.hstack([y_promoproms, y_alameda])\n",
        "\n",
        "# Perform SMOTE on the combined dataset to address class imbalance\n",
        "smote = SMOTE(random_state=42)\n",
        "X_resampled_combined, y_resampled_combined = smote.fit_resample(X_combined, y_combined)\n"
      ],
      "metadata": {
        "id": "vlFco8pPVyn0"
      },
      "execution_count": null,
      "outputs": []
    },
    {
      "cell_type": "markdown",
      "source": [
        "###Initialize the Models"
      ],
      "metadata": {
        "id": "EYVSRxAAUY5v"
      }
    },
    {
      "cell_type": "code",
      "source": [
        "# Initialize models\n",
        "logistic_model = LogisticRegression(max_iter=2000, random_state=42, C=0.5, solver='saga', penalty='l1')\n",
        "gb_classifier = GradientBoostingClassifier(random_state=42, n_iter_no_change=10, learning_rate=0.01, max_depth=3, min_samples_split=10, subsample=0.8, n_estimators=2000, min_samples_leaf=5, max_features='sqrt')\n",
        "mlp_classifier = MLPClassifier(hidden_layer_sizes=(50,), max_iter=2000, random_state=42, alpha=0.1, learning_rate_init=0.001, solver='adam', early_stopping=True, validation_fraction=0.1)\n"
      ],
      "metadata": {
        "id": "JEJn4NhhV87n"
      },
      "execution_count": null,
      "outputs": []
    },
    {
      "cell_type": "markdown",
      "source": [
        "###Define Function for Cross-Validation Metrics"
      ],
      "metadata": {
        "id": "C5PBVvTpUYzS"
      }
    },
    {
      "cell_type": "code",
      "source": [
        "# Define a function to perform 5-fold cross-validation and collect metrics\n",
        "def cross_val_metrics(model, X, y):\n",
        "    cv = StratifiedKFold(n_splits=5, shuffle=True, random_state=42)\n",
        "    log_losses = cross_val_score(model, X, y, cv=cv, scoring='neg_log_loss')\n",
        "    accuracies = cross_val_score(model, X, y, cv=cv, scoring='accuracy')\n",
        "    precisions = cross_val_score(model, X, y, cv=cv, scoring='precision')\n",
        "    recalls = cross_val_score(model, X, y, cv=cv, scoring='recall')\n",
        "    f1_scores = cross_val_score(model, X, y, cv=cv, scoring='f1')\n",
        "    pr_auc_scores = cross_val_score(model, X, y, cv=cv, scoring='average_precision')\n",
        "\n",
        "    return {\n",
        "        'Validation Loss': -log_losses.mean(),\n",
        "        'Accuracy': accuracies.mean(),\n",
        "        'AU PRC': pr_auc_scores.mean(),\n",
        "        'F1 Score': f1_scores.mean(),\n",
        "        'Precision': precisions.mean(),\n",
        "        'Recall': recalls.mean()\n",
        "    }\n"
      ],
      "metadata": {
        "id": "NI0xgL2FWBiU"
      },
      "execution_count": null,
      "outputs": []
    },
    {
      "cell_type": "markdown",
      "source": [
        "###Collect and Compare Model Metrics"
      ],
      "metadata": {
        "id": "lhmbACpxUYsm"
      }
    },
    {
      "cell_type": "code",
      "source": [
        "# Collect metrics for each model\n",
        "logistic_metrics = cross_val_metrics(logistic_model, X_resampled_combined, y_resampled_combined)\n",
        "gb_metrics = cross_val_metrics(gb_classifier, X_resampled_combined, y_resampled_combined)\n",
        "mlp_metrics = cross_val_metrics(mlp_classifier, X_resampled_combined, y_resampled_combined)\n",
        "\n",
        "# Store metrics in a dictionary for easier comparison\n",
        "metrics_dict = {\n",
        "    'Logistic Regression': logistic_metrics,\n",
        "    'Gradient Boosting': gb_metrics,\n",
        "    'MLP Classifier': mlp_metrics\n",
        "}\n",
        "\n",
        "# Convert the dictionary to a DataFrame for easier visualization\n",
        "metrics_df = pd.DataFrame(metrics_dict).T\n",
        "\n",
        "# Print metrics for the models\n",
        "print(\"Cross-Validation Metrics on Combined Dataset:\")\n",
        "print(metrics_df)\n"
      ],
      "metadata": {
        "colab": {
          "base_uri": "https://localhost:8080/"
        },
        "id": "1osNqVIzWGJG",
        "outputId": "324321af-517e-4280-fc59-71f60319253b"
      },
      "execution_count": null,
      "outputs": [
        {
          "output_type": "stream",
          "name": "stdout",
          "text": [
            "Cross-Validation Metrics on Combined Dataset:\n",
            "                     Validation Loss  Accuracy    AU PRC  F1 Score  Precision  \\\n",
            "Logistic Regression         0.541597  0.724196  0.785576  0.731549   0.713039   \n",
            "Gradient Boosting           0.196187  0.935093  0.981798  0.932938   0.962804   \n",
            "MLP Classifier              0.423533  0.811723  0.876433  0.817731   0.789260   \n",
            "\n",
            "                       Recall  \n",
            "Logistic Regression  0.752340  \n",
            "Gradient Boosting    0.905200  \n",
            "MLP Classifier       0.849009  \n"
          ]
        }
      ]
    },
    {
      "cell_type": "markdown",
      "source": [
        "###Plot Model Performance Metrics"
      ],
      "metadata": {
        "id": "wRQq754KUYJW"
      }
    },
    {
      "cell_type": "code",
      "source": [
        "# Plotting the metrics\n",
        "metrics = metrics_df.columns\n",
        "models = metrics_df.index\n",
        "\n",
        "x = np.arange(len(metrics))\n",
        "width = 0.2\n",
        "\n",
        "fig, ax = plt.subplots(figsize=(10, 6))\n",
        "\n",
        "# Plotting metrics\n",
        "for i, model in enumerate(models):\n",
        "    ax.bar(x + i*(width + 0.05), metrics_df.loc[model], width, label=model)\n",
        "\n",
        "ax.set_xlabel('Metrics')\n",
        "ax.set_ylabel('Scores')\n",
        "ax.set_title('Model Performance Metrics with 5-Fold Cross-Validation')\n",
        "ax.set_xticks(x + width)\n",
        "ax.set_xticklabels(metrics, rotation=45, ha='right')\n",
        "ax.legend()\n",
        "\n",
        "plt.tight_layout()\n",
        "plt.show()\n"
      ],
      "metadata": {
        "colab": {
          "base_uri": "https://localhost:8080/",
          "height": 607
        },
        "id": "AHxgmhl2WOnB",
        "outputId": "4eb5ac97-50ff-48ac-ea7f-1c234a35cd16"
      },
      "execution_count": null,
      "outputs": [
        {
          "output_type": "display_data",
          "data": {
            "text/plain": [
              "<Figure size 1000x600 with 1 Axes>"
            ],
            "image/png": "[encoded data removed]"
          },
          "metadata": {}
        }
      ]
    }
  ]
}